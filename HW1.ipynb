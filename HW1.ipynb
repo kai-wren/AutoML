{
 "cells": [
  {
   "cell_type": "markdown",
   "metadata": {},
   "source": [
    "# Introduction"
   ]
  },
  {
   "cell_type": "markdown",
   "metadata": {},
   "source": [
    "Loading required libraries."
   ]
  },
  {
   "cell_type": "code",
   "execution_count": 230,
   "metadata": {},
   "outputs": [],
   "source": [
    "import numpy as np\n",
    "import matplotlib.pyplot as plt\n",
    "import GPy\n",
    "import GPyOpt\n",
    "\n",
    "from sklearn.datasets import load_diabetes\n",
    "from sklearn.model_selection import cross_val_score\n",
    "from sklearn.model_selection import RandomizedSearchCV, GridSearchCV\n",
    "from sklearn.ensemble import RandomForestRegressor\n",
    "from GPyOpt.methods import BayesianOptimization\n",
    "from scipy.optimize import basinhopping #method for extra part"
   ]
  },
  {
   "cell_type": "markdown",
   "metadata": {},
   "source": [
    "Loading dataset from sklearn library."
   ]
  },
  {
   "cell_type": "code",
   "execution_count": 231,
   "metadata": {},
   "outputs": [],
   "source": [
    "X, y = load_diabetes(return_X_y=True)"
   ]
  },
  {
   "cell_type": "markdown",
   "metadata": {},
   "source": [
    "As next step, fitting Random Foresr Regressor on loaded data. Here and afterwards I am fixing random_state parameter equal to 7 to have an ability to reproduce same results."
   ]
  },
  {
   "cell_type": "code",
   "execution_count": 232,
   "metadata": {},
   "outputs": [
    {
     "data": {
      "text/plain": [
       "RandomForestRegressor(bootstrap=True, ccp_alpha=0.0, criterion='mse',\n",
       "                      max_depth=None, max_features='auto', max_leaf_nodes=None,\n",
       "                      max_samples=None, min_impurity_decrease=0.0,\n",
       "                      min_impurity_split=None, min_samples_leaf=1,\n",
       "                      min_samples_split=2, min_weight_fraction_leaf=0.0,\n",
       "                      n_estimators=100, n_jobs=None, oob_score=False,\n",
       "                      random_state=7, verbose=0, warm_start=False)"
      ]
     },
     "execution_count": 232,
     "metadata": {},
     "output_type": "execute_result"
    }
   ],
   "source": [
    "rfreg = RandomForestRegressor(random_state=7)\n",
    "rfreg.fit(X, y)"
   ]
  },
  {
   "cell_type": "markdown",
   "metadata": {},
   "source": [
    "Calculating baseline error using cross validation score on loaded data and negative mean squared error."
   ]
  },
  {
   "cell_type": "code",
   "execution_count": 233,
   "metadata": {},
   "outputs": [
    {
     "data": {
      "text/plain": [
       "-3376.5277690628195"
      ]
     },
     "execution_count": 233,
     "metadata": {},
     "output_type": "execute_result"
    }
   ],
   "source": [
    "baseline = cross_val_score(rfreg, X, y, scoring='neg_mean_squared_error').mean()\n",
    "baseline"
   ]
  },
  {
   "cell_type": "markdown",
   "metadata": {},
   "source": [
    "# Random Search\n",
    "\n",
    "Here I am executing Random Search using RandomizedSearchCV from sklearn. I select 1000 iterations to have more points sampled and number of parallel jobs I set to 6 to speed up execution (I have 8 cores so maybe parameter need to be changed if executed on less amount of cores). Same as above, random state is set to value 7 and, last but not least, I add some verbosity not to get bored while waiting.\n",
    "\n",
    "As for parameters dictionary, I choose to give a list of values to sample from for max_depth, n_estimators and max_features parameters because all those values should be an integer values. To avoid some random float numbers, I decided to go with list of possible values. Boundaries for max_depth and n_estimators I choose from to be aproximately equaly spread around best value retrieved on previous attempts. While boundaries for max_features array are derived from data X variale. Since in our data only 10 features I logically ,limit possible values between 1 and 10 (included)."
   ]
  },
  {
   "cell_type": "code",
   "execution_count": 234,
   "metadata": {
    "scrolled": false
   },
   "outputs": [
    {
     "name": "stdout",
     "output_type": "stream",
     "text": [
      "Fitting 5 folds for each of 1000 candidates, totalling 5000 fits\n"
     ]
    },
    {
     "name": "stderr",
     "output_type": "stream",
     "text": [
      "[Parallel(n_jobs=6)]: Using backend LokyBackend with 6 concurrent workers.\n",
      "[Parallel(n_jobs=6)]: Done  20 tasks      | elapsed:    3.1s\n",
      "[Parallel(n_jobs=6)]: Done 116 tasks      | elapsed:    8.3s\n",
      "[Parallel(n_jobs=6)]: Done 276 tasks      | elapsed:   16.5s\n",
      "[Parallel(n_jobs=6)]: Done 500 tasks      | elapsed:   27.8s\n",
      "[Parallel(n_jobs=6)]: Done 788 tasks      | elapsed:   43.1s\n",
      "[Parallel(n_jobs=6)]: Done 1140 tasks      | elapsed:  1.0min\n",
      "[Parallel(n_jobs=6)]: Done 1556 tasks      | elapsed:  1.4min\n",
      "[Parallel(n_jobs=6)]: Done 2036 tasks      | elapsed:  1.8min\n",
      "[Parallel(n_jobs=6)]: Done 2580 tasks      | elapsed:  2.3min\n",
      "[Parallel(n_jobs=6)]: Done 3188 tasks      | elapsed:  2.8min\n",
      "[Parallel(n_jobs=6)]: Done 3860 tasks      | elapsed:  3.4min\n",
      "[Parallel(n_jobs=6)]: Done 4596 tasks      | elapsed:  4.1min\n",
      "[Parallel(n_jobs=6)]: Done 5000 out of 5000 | elapsed:  4.4min finished\n"
     ]
    },
    {
     "data": {
      "text/plain": [
       "RandomizedSearchCV(cv=None, error_score=nan,\n",
       "                   estimator=RandomForestRegressor(bootstrap=True,\n",
       "                                                   ccp_alpha=0.0,\n",
       "                                                   criterion='mse',\n",
       "                                                   max_depth=None,\n",
       "                                                   max_features='auto',\n",
       "                                                   max_leaf_nodes=None,\n",
       "                                                   max_samples=None,\n",
       "                                                   min_impurity_decrease=0.0,\n",
       "                                                   min_impurity_split=None,\n",
       "                                                   min_samples_leaf=1,\n",
       "                                                   min_samples_split=2,\n",
       "                                                   min_weight_fraction_leaf=0.0,\n",
       "                                                   n_estimators=100,\n",
       "                                                   n_jobs=None, oob_score=F...\n",
       "                   param_distributions={'max_depth': array([ 1,  2,  3,  4,  5,  6,  7,  8,  9, 10, 11, 12, 13, 14, 15, 16, 17,\n",
       "       18, 19, 20]),\n",
       "                                        'max_features': array([ 1,  2,  3,  4,  5,  6,  7,  8,  9, 10]),\n",
       "                                        'n_estimators': array([ 80,  81,  82,  83,  84,  85,  86,  87,  88,  89,  90,  91,  92,\n",
       "        93,  94,  95,  96,  97,  98,  99, 100, 101, 102, 103, 104, 105,\n",
       "       106, 107, 108, 109, 110, 111, 112, 113, 114, 115, 116, 117, 118,\n",
       "       119, 120])},\n",
       "                   pre_dispatch='2*n_jobs', random_state=7, refit=True,\n",
       "                   return_train_score=False, scoring='neg_mean_squared_error',\n",
       "                   verbose=3)"
      ]
     },
     "execution_count": 234,
     "metadata": {},
     "output_type": "execute_result"
    }
   ],
   "source": [
    "params = dict(max_depth = np.arange(1, 21), n_estimators = np.arange(80, 121), max_features = np.arange(1,11))\n",
    "rs = RandomizedSearchCV(rfreg, param_distributions=params, scoring='neg_mean_squared_error', n_iter=1000, n_jobs=6, verbose=3, random_state=7)\n",
    "rs.fit(X,y)"
   ]
  },
  {
   "cell_type": "markdown",
   "metadata": {},
   "source": [
    "Printing results of random search - best set of parameters, respective estimator and score."
   ]
  },
  {
   "cell_type": "code",
   "execution_count": 238,
   "metadata": {},
   "outputs": [
    {
     "data": {
      "text/plain": [
       "{'n_estimators': 93, 'max_features': 4, 'max_depth': 9}"
      ]
     },
     "execution_count": 238,
     "metadata": {},
     "output_type": "execute_result"
    }
   ],
   "source": [
    "rs.best_params_"
   ]
  },
  {
   "cell_type": "code",
   "execution_count": 239,
   "metadata": {},
   "outputs": [
    {
     "data": {
      "text/plain": [
       "RandomForestRegressor(bootstrap=True, ccp_alpha=0.0, criterion='mse',\n",
       "                      max_depth=9, max_features=4, max_leaf_nodes=None,\n",
       "                      max_samples=None, min_impurity_decrease=0.0,\n",
       "                      min_impurity_split=None, min_samples_leaf=1,\n",
       "                      min_samples_split=2, min_weight_fraction_leaf=0.0,\n",
       "                      n_estimators=93, n_jobs=None, oob_score=False,\n",
       "                      random_state=7, verbose=0, warm_start=False)"
      ]
     },
     "execution_count": 239,
     "metadata": {},
     "output_type": "execute_result"
    }
   ],
   "source": [
    "rs.best_estimator_"
   ]
  },
  {
   "cell_type": "code",
   "execution_count": 240,
   "metadata": {},
   "outputs": [
    {
     "data": {
      "text/plain": [
       "-3134.653779344906"
      ]
     },
     "execution_count": 240,
     "metadata": {},
     "output_type": "execute_result"
    }
   ],
   "source": [
    "rs.best_score_"
   ]
  },
  {
   "cell_type": "markdown",
   "metadata": {},
   "source": [
    "# Grid Search\n",
    "\n",
    "Next, I am executing Grid Search on loaded data. For parameters grid I choose intervals equally distributed around best parameters set, except for max_features parameter - here same logic applies - we have maximum 10 features so checking all values between 1 and 10. \n",
    "\n",
    "As before, I set number of parallel jobs to 6 for faster execution (since I have 8 cores on my laptop) and some level of verbosity to not get bored during execution. Number of iterations here depends on amount of possible parameters.\n",
    "\n",
    "As for parameters dictionary, to select boundaries I first run Grid Search with wider interval and bigger step, once I rougly found best parameters values - I narrowed down search range and reduce step size. Current implementation done with reduced step size and more narrow intervals as result of previous runs."
   ]
  },
  {
   "cell_type": "code",
   "execution_count": 241,
   "metadata": {},
   "outputs": [
    {
     "name": "stdout",
     "output_type": "stream",
     "text": [
      "Fitting 5 folds for each of 2310 candidates, totalling 11550 fits\n"
     ]
    },
    {
     "name": "stderr",
     "output_type": "stream",
     "text": [
      "[Parallel(n_jobs=6)]: Using backend LokyBackend with 6 concurrent workers.\n",
      "[Parallel(n_jobs=6)]: Done  20 tasks      | elapsed:    2.2s\n",
      "[Parallel(n_jobs=6)]: Done 116 tasks      | elapsed:    6.4s\n",
      "[Parallel(n_jobs=6)]: Done 276 tasks      | elapsed:   12.7s\n",
      "[Parallel(n_jobs=6)]: Done 500 tasks      | elapsed:   22.3s\n",
      "[Parallel(n_jobs=6)]: Done 788 tasks      | elapsed:   35.9s\n",
      "[Parallel(n_jobs=6)]: Done 1140 tasks      | elapsed:   53.0s\n",
      "[Parallel(n_jobs=6)]: Done 1556 tasks      | elapsed:  1.2min\n",
      "[Parallel(n_jobs=6)]: Done 2036 tasks      | elapsed:  1.6min\n",
      "[Parallel(n_jobs=6)]: Done 2580 tasks      | elapsed:  2.0min\n",
      "[Parallel(n_jobs=6)]: Done 3188 tasks      | elapsed:  2.6min\n",
      "[Parallel(n_jobs=6)]: Done 3860 tasks      | elapsed:  3.2min\n",
      "[Parallel(n_jobs=6)]: Done 4596 tasks      | elapsed:  3.8min\n",
      "[Parallel(n_jobs=6)]: Done 5396 tasks      | elapsed:  4.7min\n",
      "[Parallel(n_jobs=6)]: Done 6260 tasks      | elapsed:  6.0min\n",
      "[Parallel(n_jobs=6)]: Done 7188 tasks      | elapsed:  7.0min\n",
      "[Parallel(n_jobs=6)]: Done 8180 tasks      | elapsed:  8.2min\n",
      "[Parallel(n_jobs=6)]: Done 9236 tasks      | elapsed:  9.4min\n",
      "[Parallel(n_jobs=6)]: Done 10356 tasks      | elapsed: 10.7min\n",
      "[Parallel(n_jobs=6)]: Done 11550 out of 11550 | elapsed: 12.3min finished\n"
     ]
    },
    {
     "data": {
      "text/plain": [
       "GridSearchCV(cv=None, error_score=nan,\n",
       "             estimator=RandomForestRegressor(bootstrap=True, ccp_alpha=0.0,\n",
       "                                             criterion='mse', max_depth=None,\n",
       "                                             max_features='auto',\n",
       "                                             max_leaf_nodes=None,\n",
       "                                             max_samples=None,\n",
       "                                             min_impurity_decrease=0.0,\n",
       "                                             min_impurity_split=None,\n",
       "                                             min_samples_leaf=1,\n",
       "                                             min_samples_split=2,\n",
       "                                             min_weight_fraction_leaf=0.0,\n",
       "                                             n_estimators=100, n_jobs=None,\n",
       "                                             oob_score=False, r...\n",
       "                                             verbose=0, warm_start=False),\n",
       "             iid='deprecated', n_jobs=6,\n",
       "             param_grid={'max_depth': array([ 5,  6,  7,  8,  9, 10, 11, 12, 13, 14, 15]),\n",
       "                         'max_features': array([ 1,  2,  3,  4,  5,  6,  7,  8,  9, 10]),\n",
       "                         'n_estimators': array([ 90,  91,  92,  93,  94,  95,  96,  97,  98,  99, 100, 101, 102,\n",
       "       103, 104, 105, 106, 107, 108, 109, 110])},\n",
       "             pre_dispatch='2*n_jobs', refit=True, return_train_score=False,\n",
       "             scoring='neg_mean_squared_error', verbose=3)"
      ]
     },
     "execution_count": 241,
     "metadata": {},
     "output_type": "execute_result"
    }
   ],
   "source": [
    "params = dict(max_depth = np.arange(5, 16), n_estimators = np.arange(90, 111), max_features = np.arange(1,11))\n",
    "gs = GridSearchCV(rfreg, param_grid=params, scoring='neg_mean_squared_error', n_jobs=6, verbose=3)\n",
    "gs.fit(X,y)"
   ]
  },
  {
   "cell_type": "markdown",
   "metadata": {},
   "source": [
    "Printing result of grid search - best set of parameters found, respective estimator and score."
   ]
  },
  {
   "cell_type": "code",
   "execution_count": 242,
   "metadata": {},
   "outputs": [
    {
     "data": {
      "text/plain": [
       "{'max_depth': 9, 'max_features': 4, 'n_estimators': 93}"
      ]
     },
     "execution_count": 242,
     "metadata": {},
     "output_type": "execute_result"
    }
   ],
   "source": [
    "gs.best_params_"
   ]
  },
  {
   "cell_type": "code",
   "execution_count": 243,
   "metadata": {},
   "outputs": [
    {
     "data": {
      "text/plain": [
       "RandomForestRegressor(bootstrap=True, ccp_alpha=0.0, criterion='mse',\n",
       "                      max_depth=9, max_features=4, max_leaf_nodes=None,\n",
       "                      max_samples=None, min_impurity_decrease=0.0,\n",
       "                      min_impurity_split=None, min_samples_leaf=1,\n",
       "                      min_samples_split=2, min_weight_fraction_leaf=0.0,\n",
       "                      n_estimators=93, n_jobs=None, oob_score=False,\n",
       "                      random_state=7, verbose=0, warm_start=False)"
      ]
     },
     "execution_count": 243,
     "metadata": {},
     "output_type": "execute_result"
    }
   ],
   "source": [
    "gs.best_estimator_"
   ]
  },
  {
   "cell_type": "code",
   "execution_count": 244,
   "metadata": {},
   "outputs": [
    {
     "data": {
      "text/plain": [
       "-3134.653779344906"
      ]
     },
     "execution_count": 244,
     "metadata": {},
     "output_type": "execute_result"
    }
   ],
   "source": [
    "gs.best_score_"
   ]
  },
  {
   "cell_type": "markdown",
   "metadata": {},
   "source": [
    "# Bayesian Optimization\n",
    "\n",
    "For Bayesian Optimization first of all we need to define a function which executes Random Forest Regressor fitting and calculates respective score. This function takes one argument which contains three values - one per respective parameter. "
   ]
  },
  {
   "cell_type": "code",
   "execution_count": 245,
   "metadata": {
    "scrolled": true
   },
   "outputs": [],
   "source": [
    "def RFR(args):\n",
    "    \n",
    "    rfreg = RandomForestRegressor(max_depth=int(args[0][0]), n_estimators = int(args[0][1]), max_features = int(args[0][2]), random_state=7)\n",
    "    rfreg.fit(X, y)\n",
    "    score = cross_val_score(rfreg, X, y, scoring='neg_mean_squared_error').mean()\n",
    "    score = np.array(score)\n",
    "    return score"
   ]
  },
  {
   "cell_type": "markdown",
   "metadata": {},
   "source": [
    "Now, I am ready to execute Bayesian Optimixzation itself. Since all parameters are should be an integer values I am using discrete type and domain as list of values which is simillar to the one used for Grid Search. As usual, adding verbosity to see interim results."
   ]
  },
  {
   "cell_type": "code",
   "execution_count": 249,
   "metadata": {},
   "outputs": [
    {
     "name": "stdout",
     "output_type": "stream",
     "text": [
      "num acquisition: 1, time elapsed: 1.31s\n",
      "num acquisition: 2, time elapsed: 2.74s\n",
      "num acquisition: 3, time elapsed: 4.32s\n",
      "num acquisition: 4, time elapsed: 5.54s\n",
      "num acquisition: 5, time elapsed: 7.08s\n",
      "num acquisition: 6, time elapsed: 8.36s\n",
      "num acquisition: 7, time elapsed: 9.65s\n",
      "num acquisition: 8, time elapsed: 11.00s\n",
      "num acquisition: 9, time elapsed: 12.47s\n"
     ]
    }
   ],
   "source": [
    "domains = [{'name':'max_depth', 'type':'discrete', 'domain': (5, 6, 7, 8, 9, 10, 11, 12, 13, 14, 15)},\n",
    "      {'name': 'n_estimators', 'type': 'discrete', 'domain': (90, 91, 92, 93, 94, 95, 96, 97, 98, 99, 100, 101, 102, 103, 104, 105, 106, 107, 108, 109, 110)}, \n",
    "      {'name':'max_features', 'type':'discrete', 'domain': (1, 2, 3, 4, 5, 6, 7, 8, 9, 10)}]\n",
    "\n",
    "optimizer = BayesianOptimization(f=RFR, model_type='GP', acquisition_type='EI', domain=domains, maximize=True)\n",
    "optimizer.run_optimization(max_iter=50, verbosity=True)"
   ]
  },
  {
   "cell_type": "markdown",
   "metadata": {},
   "source": [
    "Ploting cvonvergence using in-built method of optimizer from number of iterations."
   ]
  },
  {
   "cell_type": "code",
   "execution_count": 250,
   "metadata": {
    "scrolled": true
   },
   "outputs": [
    {
     "data": {
      "image/png": "[encoded data removed]",
      "text/plain": [
       "<Figure size 720x360 with 2 Axes>"
      ]
     },
     "metadata": {
      "needs_background": "light"
     },
     "output_type": "display_data"
    }
   ],
   "source": [
    "optimizer.plot_convergence()"
   ]
  },
  {
   "cell_type": "markdown",
   "metadata": {},
   "source": [
    "Next, printint optimal parameters values as well as optimal score found."
   ]
  },
  {
   "cell_type": "code",
   "execution_count": 257,
   "metadata": {
    "scrolled": false
   },
   "outputs": [
    {
     "name": "stdout",
     "output_type": "stream",
     "text": [
      "Optimal parameters are max_depth = 5, n_estimators = 95 and max_features = 6.\n",
      "Optimal function value is 3177.14603\n"
     ]
    }
   ],
   "source": [
    "print(\"Optimal parameters are max_depth = %d, n_estimators = %d and max_features = %d.\" % (optimizer.x_opt[0], optimizer.x_opt[1], optimizer.x_opt[2]))\n",
    "\n",
    "print(\"Optimal function value is %.5f\" % optimizer.fx_opt)"
   ]
  },
  {
   "cell_type": "markdown",
   "metadata": {},
   "source": [
    "# Results\n",
    "\n",
    "After all three methods are executed we could plot results on single plot to compare which of them find results faster and has a better result itself."
   ]
  },
  {
   "cell_type": "code",
   "execution_count": 306,
   "metadata": {},
   "outputs": [
    {
     "data": {
      "text/plain": [
       "<matplotlib.legend.Legend at 0x260782feda0>"
      ]
     },
     "execution_count": 306,
     "metadata": {},
     "output_type": "execute_result"
    },
    {
     "data": {
      "image/png": "[encoded data removed]",
      "text/plain": [
       "<Figure size 720x432 with 1 Axes>"
      ]
     },
     "metadata": {
      "needs_background": "light"
     },
     "output_type": "display_data"
    }
   ],
   "source": [
    "y_rs = np.maximum.accumulate(rs.cv_results_['mean_test_score'])\n",
    "y_gs = np.maximum.accumulate(gs.cv_results_['mean_test_score'])\n",
    "y_bo = np.maximum.accumulate(-optimizer.Y).ravel()\n",
    "\n",
    "plt.figure(figsize=(10,6))\n",
    "plt.plot(y_rs, 'ro', label='Random Search')\n",
    "plt.plot(y_gs, 'bo', label='Grid Search')\n",
    "plt.plot(y_bo, 'go', label='Bayesian Optimization')\n",
    "plt.xlabel('Iteration')\n",
    "plt.ylabel('Negative MSE')\n",
    "plt.legend(loc='right')"
   ]
  },
  {
   "cell_type": "markdown",
   "metadata": {},
   "source": [
    "From this plot we could see that Bayesian Optimization (BO) requires much less amount of iterations to find a solution. Number of iterations here much less than in Grid (GS) or Random Search (RS). However we could also notice that result itself is slightly worse compare to the one found by GS or RS - green dots on plot are below blue and red ones. On other hand, we could see that RS find suitable result a  bit earlier compare to GS. \n",
    "\n",
    "In a nutshell, GS method is slowest among three tested methods and goes through each set of values, but could be useful to pin point serach interval boundaries for other methods as I have did initially. RS method is faster compare to GS and could achieve same result, but here large number of iteration also required if we would like to get precise result. I have used 1000 instead of default 10 iterations. This makes this method not so efficient. The fastest method amongs tested ones is BO which achieve result much more faster and stop execution if improvement not that sufficient anymore. As result, optimal value a bit worse, but found much faster. I think BO method could be used to quickly identify where approximately optimal parameters values lies and, if better accuracy is required, other methods like RS or GS could be used afterwards with more granular steps. "
   ]
  },
  {
   "cell_type": "markdown",
   "metadata": {},
   "source": [
    "# Extra: Basin-hopping method optimization\n",
    "\n",
    "Since Simulated Annealing got depricated in SciPy and replaces with Basin-hopping method I decided to use it for extra task. First of all I neeed to define simillar function as for Bayesian Optimization, but this time I do not need two dimansional arrayt for parameters hence function content remains same, I just changed it since parameters are passed differently. Another minor change - I return negative score since Basin-hopping method is seraching for minimal solution."
   ]
  },
  {
   "cell_type": "code",
   "execution_count": 261,
   "metadata": {},
   "outputs": [],
   "source": [
    "def RFR_BH(args):\n",
    "    rfreg = RandomForestRegressor(max_depth=int(args[0]), n_estimators = int(args[1]), max_features = int(args[2]), random_state=7)\n",
    "    rfreg.fit(X, y)\n",
    "    score = cross_val_score(rfreg, X, y, scoring='neg_mean_squared_error').mean()\n",
    "    score = np.array(score)\n",
    "    return -1 * score"
   ]
  },
  {
   "cell_type": "markdown",
   "metadata": {},
   "source": [
    "Because all out parameters shhould be integer values due to their nature and since they have logical constraints I have to define my custom stepper function with conditions not to violate such constraints. For max_depth and n_estimators we have lower possible value as 1 and no upper constraints, hence I limited in code possible steps not to go lower than 1 if such happens. While for max_features parameters value whould stay within interval from 1 to 10 included, hence conditions here includes also upper bound additionaly. Steps itself are choosen by my as best guess and value itself could be any random integer value within interval bound. When there is a risk to violate constraint, I set possible interval value to 0. "
   ]
  },
  {
   "cell_type": "code",
   "execution_count": 262,
   "metadata": {},
   "outputs": [],
   "source": [
    "class MyTakeStep(object):\n",
    "    def __init__(self, stepsize=1):\n",
    "        self.stepsize = stepsize #set to 1 to control it later per parameter with multiplication\n",
    "    def __call__(self, x):\n",
    "        s = self.stepsize\n",
    "        if x[0] <= 5: # for max_depth parameter lower possible bound is 1 and no upper\n",
    "            x[0] += np.random.randint(0, 6*s) # for step I choose any value between -5 and 5\n",
    "        else:\n",
    "            x[0] += np.random.randint(-5*s, 6*s)\n",
    "        \n",
    "        if x[1] <= 10: # for n_estimators parameter lower possible bound is 1 and no upper\n",
    "            x[1] += np.random.randint(0, 11*s) # for step I choose any value between -10 and 10\n",
    "        else:\n",
    "            x[1] += np.random.randint(-10*s, 11*s)\n",
    "        \n",
    "        if x[2] <= 1: # for max_features parameter lower possible value is 1 and upper possible value is 10\n",
    "            x[2] += np.random.randint(0, 2*s) # respectively step size is a value from set -1, 0 and 1\n",
    "        elif x[2] >= 10:\n",
    "            x[2] += np.random.randint(-1*s, s)\n",
    "        else:\n",
    "            x[2] += np.random.randint(-1*s, 2*s)\n",
    "            \n",
    "        return x"
   ]
  },
  {
   "cell_type": "markdown",
   "metadata": {},
   "source": [
    "Since in SciPy OptimizeResult object doesn't hold array of value for each iteration I am defining custom callback function where I am collecting values of parameters and function value for each itertion. Later I will use those to create a plot simillar to previous one."
   ]
  },
  {
   "cell_type": "code",
   "execution_count": 294,
   "metadata": {},
   "outputs": [],
   "source": [
    "def print_fun(x, f, accept):\n",
    "    all_x.append(x)\n",
    "    all_y.append(f)"
   ]
  },
  {
   "cell_type": "markdown",
   "metadata": {},
   "source": [
    "Now, defining optimizer itself and running optimization. I set number of iterations to 50 and stepsize as 1, but it wil be overruled by custom defined stepper class. Also, defining custom callback function to accumulate iterations results."
   ]
  },
  {
   "cell_type": "code",
   "execution_count": 295,
   "metadata": {
    "scrolled": false
   },
   "outputs": [],
   "source": [
    "all_x = [] # initializing array to accumulate values\n",
    "all_y = []\n",
    "mytakestep = MyTakeStep() # creating custom stepper class\n",
    "minimizer_kwargs = {\"method\": \"BFGS\"} # optimization method to be used\n",
    "x0 = [10, 100, 5] # setting initial guess for parameters values - I choose some values as randomly and close to previous results\n",
    "BH = basinhopping(RFR_BH, x0, minimizer_kwargs=minimizer_kwargs, niter=50, stepsize=1, take_step=mytakestep, callback=print_fun)"
   ]
  },
  {
   "cell_type": "markdown",
   "metadata": {},
   "source": [
    "Printing result of optimization - optimal parameters values and respective function value."
   ]
  },
  {
   "cell_type": "code",
   "execution_count": 303,
   "metadata": {},
   "outputs": [
    {
     "name": "stdout",
     "output_type": "stream",
     "text": [
      "Optimal parameters are max_depth = 9, n_estimators = 76 and max_features = 4.\n",
      "Optimal function value is 3139.88603\n"
     ]
    }
   ],
   "source": [
    "print(\"Optimal parameters are max_depth = %d, n_estimators = %d and max_features = %d.\" % (BH.x[0], BH.x[1], BH.x[2]))\n",
    "print(\"Optimal function value is %.5f\" % BH.fun)"
   ]
  },
  {
   "cell_type": "markdown",
   "metadata": {},
   "source": [
    "For simplicity, on the plot I am comparing Basin-hopping (BH) method with Bayesian Optimization (BO) only."
   ]
  },
  {
   "cell_type": "code",
   "execution_count": 313,
   "metadata": {},
   "outputs": [
    {
     "data": {
      "text/plain": [
       "<matplotlib.legend.Legend at 0x26078199390>"
      ]
     },
     "execution_count": 313,
     "metadata": {},
     "output_type": "execute_result"
    },
    {
     "data": {
      "image/png": "[encoded data removed]",
      "text/plain": [
       "<Figure size 720x432 with 1 Axes>"
      ]
     },
     "metadata": {
      "needs_background": "light"
     },
     "output_type": "display_data"
    }
   ],
   "source": [
    "y_bo = np.maximum.accumulate(-optimizer.Y).ravel()\n",
    "y_bh = np.maximum.accumulate(-np.array(all_y))\n",
    "\n",
    "plt.figure(figsize=(10,6))\n",
    "plt.plot(y_bo, 'go', label='Bayesian Optimization')\n",
    "plt.plot(y_bh, 'yo', label='Basin-hopping Optimization')\n",
    "plt.xlabel('Iteration')\n",
    "plt.ylabel('Negative MSE')\n",
    "plt.legend(loc='right')"
   ]
  },
  {
   "cell_type": "markdown",
   "metadata": {},
   "source": [
    "From this plot we could notice that Bayesian Optimization (BO) method still finds optimal solution faster, compare to Basin-hopping (BH) method. However, overall optimal solution found by BH method is better compare to one found by BO method. In addition, BH method took all 50 iterations while BO method exits eralier. \n",
    "\n",
    "In a nutshell, solution found by BH method lies between solutions found by Grid Search (GS) and Randomize Search (RS) and found much faster compare to GS and RS. So BH method could be good alternative to GS and RS methods since it have better tradeoff between performance and accuracy - it is faster than RS and GS and find approximate optimal solution which has better accuracy than BO method. However, I should admit that since custom stepper defines step randomly, it could be that optimal solution won't be achieved in given number of iterations. I think that with BH method, as with all iterative methods, result depends on how well initial set of parameters selected."
   ]
  }
 ],
 "metadata": {
  "kernelspec": {
   "display_name": "Python 3",
   "language": "python",
   "name": "python3"
  },
  "language_info": {
   "codemirror_mode": {
    "name": "ipython",
    "version": 3
   },
   "file_extension": ".py",
   "mimetype": "text/x-python",
   "name": "python",
   "nbconvert_exporter": "python",
   "pygments_lexer": "ipython3",
   "version": "3.7.3"
  }
 },
 "nbformat": 4,
 "nbformat_minor": 2
}
